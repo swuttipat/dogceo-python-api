{
 "cells": [
  {
   "cell_type": "code",
   "execution_count": null,
   "metadata": {
    "_cell_guid": "b1076dfc-b9ad-4769-8c92-a6c4dae69d19",
    "_uuid": "8f2839f25d086af736a60e9eeb907d3b93b6e0e5"
   },
   "outputs": [],
   "source": [
    "import os\n",
    "\n",
    "output_path=os.path.join(os.getcwd(), \"data\") #Folder name 'data' in your work directory"
   ]
  },
  {
   "cell_type": "code",
   "execution_count": null,
   "metadata": {},
   "outputs": [],
   "source": [
    "import requests\n",
    "import os\n",
    "import urllib.request\n",
    "from tqdm import tqdm\n",
    "from PIL import Image\n",
    "import io\n",
    "\n",
    "\n",
    "\n",
    "def get_all_breeds():\n",
    "    response = requests.get(\"https://dog.ceo/api/breeds/list/all\")\n",
    "    data = response.json()\n",
    "    return data[\"message\"]\n",
    "\n",
    "\n",
    "def get_images_for_breeds(breeds):\n",
    "    images = {}\n",
    "\n",
    "    for breed, sub_breeds in breeds.items():\n",
    "        images[breed] = get_images_by_breed(breed)\n",
    "\n",
    "    return images\n",
    "\n",
    "\n",
    "def get_images_by_breed(breed):\n",
    "    response = requests.get(f\"https://dog.ceo/api/breed/{breed}/images\")\n",
    "    data = response.json()\n",
    "    return data[\"message\"]\n",
    "\n",
    "\n",
    "def download_images(images, target_dir):\n",
    "    if not os.path.exists(target_dir):\n",
    "        os.makedirs(target_dir)\n",
    "\n",
    "    for breed, urls in tqdm(images.items(), desc=\"Downloading images\"):\n",
    "        breed_dir = os.path.join(target_dir, breed)\n",
    "        if not os.path.exists(breed_dir):\n",
    "            os.makedirs(breed_dir)\n",
    "\n",
    "        for i, url in enumerate(urls):\n",
    "            image_path = os.path.join(breed_dir, f\"{breed}_{i}.jpg\")\n",
    "            try:\n",
    "                # Retrieve the image from the URL\n",
    "                response = requests.get(url)\n",
    "                response.raise_for_status()\n",
    "                \n",
    "                # Attempt to open the image to check if it's readable\n",
    "                img = Image.open(io.BytesIO(response.content))\n",
    "                \n",
    "                # Save the image if it's valid\n",
    "                with open(image_path, 'wb') as f:\n",
    "                    f.write(response.content)\n",
    "            except Exception as e:\n",
    "                print(f\"Error downloading {url}: {e}\")\n",
    "                "
   ]
  },
  {
   "cell_type": "code",
   "execution_count": null,
   "metadata": {
    "tags": []
   },
   "outputs": [],
   "source": [
    "breeds = get_all_breeds()\n",
    "images = get_images_for_breeds(breeds)\n",
    "download_images(images, target_dir=output_path)"
   ]
  }
 ],
 "metadata": {
  "kernelspec": {
   "display_name": "Python 3 (ipykernel)",
   "language": "python",
   "name": "python3"
  },
  "language_info": {
   "codemirror_mode": {
    "name": "ipython",
    "version": 3
   },
   "file_extension": ".py",
   "mimetype": "text/x-python",
   "name": "python",
   "nbconvert_exporter": "python",
   "pygments_lexer": "ipython3",
   "version": "3.8.16"
  }
 },
 "nbformat": 4,
 "nbformat_minor": 4
}
